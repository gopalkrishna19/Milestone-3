{
  "nbformat": 4,
  "nbformat_minor": 0,
  "metadata": {
    "colab": {
      "name": "Mile stone 3.ipynb",
      "provenance": []
    },
    "kernelspec": {
      "name": "python3",
      "display_name": "Python 3"
    }
  },
  "cells": [
    {
      "cell_type": "markdown",
      "metadata": {
        "id": "a5cGYAoWcmTW",
        "colab_type": "text"
      },
      "source": [
        "# **This file works perfectly in google colab**\n",
        "The Purpose of this doc is to calculate the next days Price given the Previous data."
      ]
    },
    {
      "cell_type": "code",
      "metadata": {
        "id": "-mg3U4IVkUZN",
        "colab_type": "code",
        "colab": {}
      },
      "source": [
        "import pandas as pd\n",
        "import numpy as np\n",
        "%matplotlib inline\n",
        "import matplotlib.pyplot as plt\n",
        "import matplotlib"
      ],
      "execution_count": 1,
      "outputs": []
    },
    {
      "cell_type": "code",
      "metadata": {
        "id": "nhKfvCN7mh4R",
        "colab_type": "code",
        "colab": {
          "base_uri": "https://localhost:8080/",
          "height": 372
        },
        "outputId": "e8eb2552-de1a-4fe7-db62-35424dae727d"
      },
      "source": [
        "!pip install yfinance"
      ],
      "execution_count": 2,
      "outputs": [
        {
          "output_type": "stream",
          "text": [
            "Collecting yfinance\n",
            "  Downloading https://files.pythonhosted.org/packages/c2/31/8b374a12b90def92a4e27d0fc595fc43635f395984e36a075244d98bd265/yfinance-0.1.54.tar.gz\n",
            "Requirement already satisfied: pandas>=0.24 in /usr/local/lib/python3.6/dist-packages (from yfinance) (1.0.5)\n",
            "Requirement already satisfied: numpy>=1.15 in /usr/local/lib/python3.6/dist-packages (from yfinance) (1.18.5)\n",
            "Requirement already satisfied: requests>=2.20 in /usr/local/lib/python3.6/dist-packages (from yfinance) (2.23.0)\n",
            "Requirement already satisfied: multitasking>=0.0.7 in /usr/local/lib/python3.6/dist-packages (from yfinance) (0.0.9)\n",
            "Requirement already satisfied: python-dateutil>=2.6.1 in /usr/local/lib/python3.6/dist-packages (from pandas>=0.24->yfinance) (2.8.1)\n",
            "Requirement already satisfied: pytz>=2017.2 in /usr/local/lib/python3.6/dist-packages (from pandas>=0.24->yfinance) (2018.9)\n",
            "Requirement already satisfied: chardet<4,>=3.0.2 in /usr/local/lib/python3.6/dist-packages (from requests>=2.20->yfinance) (3.0.4)\n",
            "Requirement already satisfied: certifi>=2017.4.17 in /usr/local/lib/python3.6/dist-packages (from requests>=2.20->yfinance) (2020.6.20)\n",
            "Requirement already satisfied: idna<3,>=2.5 in /usr/local/lib/python3.6/dist-packages (from requests>=2.20->yfinance) (2.10)\n",
            "Requirement already satisfied: urllib3!=1.25.0,!=1.25.1,<1.26,>=1.21.1 in /usr/local/lib/python3.6/dist-packages (from requests>=2.20->yfinance) (1.24.3)\n",
            "Requirement already satisfied: six>=1.5 in /usr/local/lib/python3.6/dist-packages (from python-dateutil>=2.6.1->pandas>=0.24->yfinance) (1.15.0)\n",
            "Building wheels for collected packages: yfinance\n",
            "  Building wheel for yfinance (setup.py) ... \u001b[?25l\u001b[?25hdone\n",
            "  Created wheel for yfinance: filename=yfinance-0.1.54-py2.py3-none-any.whl size=22409 sha256=a182832da1dbf54e987dfb8930443e79f2fef239c2185eda32a409df5edd9670\n",
            "  Stored in directory: /root/.cache/pip/wheels/f9/e3/5b/ec24dd2984b12d61e0abf26289746c2436a0e7844f26f2515c\n",
            "Successfully built yfinance\n",
            "Installing collected packages: yfinance\n",
            "Successfully installed yfinance-0.1.54\n"
          ],
          "name": "stdout"
        }
      ]
    },
    {
      "cell_type": "code",
      "metadata": {
        "id": "59FI-T47mnLO",
        "colab_type": "code",
        "colab": {}
      },
      "source": [
        "import yfinance as yf"
      ],
      "execution_count": 3,
      "outputs": []
    },
    {
      "cell_type": "code",
      "metadata": {
        "id": "yZTEHmV0mqEY",
        "colab_type": "code",
        "colab": {}
      },
      "source": [
        "# Numerical libraries\n",
        "from sklearn.model_selection import train_test_split\n",
        "\n",
        "from sklearn.cluster import KMeans\n"
      ],
      "execution_count": 4,
      "outputs": []
    },
    {
      "cell_type": "markdown",
      "metadata": {
        "id": "6xPeZklSc8sv",
        "colab_type": "text"
      },
      "source": [
        "Here to Predict Tommorows Price I have only included uptil January as taking too much of old data might reduce the effect of Post COVID pandemic"
      ]
    },
    {
      "cell_type": "code",
      "metadata": {
        "id": "o1gwRNXFnAG_",
        "colab_type": "code",
        "colab": {
          "base_uri": "https://localhost:8080/",
          "height": 245
        },
        "outputId": "cdf95b4f-99bd-4c54-be0d-f3c2ba374766"
      },
      "source": [
        "data = yf.download('TCS.NS', start = '2020-01-01',end = '2020-09-13')\n",
        "data.head()"
      ],
      "execution_count": 5,
      "outputs": [
        {
          "output_type": "stream",
          "text": [
            "\r[*********************100%***********************]  1 of 1 completed\n"
          ],
          "name": "stdout"
        },
        {
          "output_type": "execute_result",
          "data": {
            "text/html": [
              "<div>\n",
              "<style scoped>\n",
              "    .dataframe tbody tr th:only-of-type {\n",
              "        vertical-align: middle;\n",
              "    }\n",
              "\n",
              "    .dataframe tbody tr th {\n",
              "        vertical-align: top;\n",
              "    }\n",
              "\n",
              "    .dataframe thead th {\n",
              "        text-align: right;\n",
              "    }\n",
              "</style>\n",
              "<table border=\"1\" class=\"dataframe\">\n",
              "  <thead>\n",
              "    <tr style=\"text-align: right;\">\n",
              "      <th></th>\n",
              "      <th>Open</th>\n",
              "      <th>High</th>\n",
              "      <th>Low</th>\n",
              "      <th>Close</th>\n",
              "      <th>Adj Close</th>\n",
              "      <th>Volume</th>\n",
              "    </tr>\n",
              "    <tr>\n",
              "      <th>Date</th>\n",
              "      <th></th>\n",
              "      <th></th>\n",
              "      <th></th>\n",
              "      <th></th>\n",
              "      <th></th>\n",
              "      <th></th>\n",
              "    </tr>\n",
              "  </thead>\n",
              "  <tbody>\n",
              "    <tr>\n",
              "      <th>2020-01-01</th>\n",
              "      <td>2168.000000</td>\n",
              "      <td>2183.899902</td>\n",
              "      <td>2154.000000</td>\n",
              "      <td>2167.600098</td>\n",
              "      <td>2135.918457</td>\n",
              "      <td>1354908</td>\n",
              "    </tr>\n",
              "    <tr>\n",
              "      <th>2020-01-02</th>\n",
              "      <td>2179.949951</td>\n",
              "      <td>2179.949951</td>\n",
              "      <td>2149.199951</td>\n",
              "      <td>2157.649902</td>\n",
              "      <td>2126.113525</td>\n",
              "      <td>2380752</td>\n",
              "    </tr>\n",
              "    <tr>\n",
              "      <th>2020-01-03</th>\n",
              "      <td>2164.000000</td>\n",
              "      <td>2223.000000</td>\n",
              "      <td>2164.000000</td>\n",
              "      <td>2200.649902</td>\n",
              "      <td>2168.484863</td>\n",
              "      <td>4655761</td>\n",
              "    </tr>\n",
              "    <tr>\n",
              "      <th>2020-01-06</th>\n",
              "      <td>2205.000000</td>\n",
              "      <td>2225.949951</td>\n",
              "      <td>2187.899902</td>\n",
              "      <td>2200.449951</td>\n",
              "      <td>2168.287842</td>\n",
              "      <td>3023209</td>\n",
              "    </tr>\n",
              "    <tr>\n",
              "      <th>2020-01-07</th>\n",
              "      <td>2200.500000</td>\n",
              "      <td>2214.649902</td>\n",
              "      <td>2183.800049</td>\n",
              "      <td>2205.850098</td>\n",
              "      <td>2173.609131</td>\n",
              "      <td>2429317</td>\n",
              "    </tr>\n",
              "  </tbody>\n",
              "</table>\n",
              "</div>"
            ],
            "text/plain": [
              "                   Open         High  ...    Adj Close   Volume\n",
              "Date                                  ...                      \n",
              "2020-01-01  2168.000000  2183.899902  ...  2135.918457  1354908\n",
              "2020-01-02  2179.949951  2179.949951  ...  2126.113525  2380752\n",
              "2020-01-03  2164.000000  2223.000000  ...  2168.484863  4655761\n",
              "2020-01-06  2205.000000  2225.949951  ...  2168.287842  3023209\n",
              "2020-01-07  2200.500000  2214.649902  ...  2173.609131  2429317\n",
              "\n",
              "[5 rows x 6 columns]"
            ]
          },
          "metadata": {
            "tags": []
          },
          "execution_count": 5
        }
      ]
    },
    {
      "cell_type": "code",
      "metadata": {
        "id": "d_QkF51GnEpk",
        "colab_type": "code",
        "colab": {}
      },
      "source": [
        "y=[]\n",
        "for i in range(1,len(data)):\n",
        "  if data['Open'][i]-data['Close'][i-1]>0:\n",
        "    y.append(1)#1 represents higher\n",
        "  else:\n",
        "    y.append(0)"
      ],
      "execution_count": 6,
      "outputs": []
    },
    {
      "cell_type": "code",
      "metadata": {
        "id": "cU7h375bnrLz",
        "colab_type": "code",
        "colab": {}
      },
      "source": [
        "x=data\n",
        "x.drop(x.tail(1).index,inplace=True)"
      ],
      "execution_count": 7,
      "outputs": []
    },
    {
      "cell_type": "code",
      "metadata": {
        "id": "HMmLpsbZooVq",
        "colab_type": "code",
        "colab": {
          "base_uri": "https://localhost:8080/",
          "height": 34
        },
        "outputId": "34b0dc4c-95b2-4fc3-f4d8-b9a402998666"
      },
      "source": [
        "from sklearn.linear_model import LogisticRegression\n",
        "from sklearn.model_selection import train_test_split\n",
        "x_train, x_test, y_train, y_test = train_test_split(x, y, test_size=0.30, random_state=11)\n",
        "model = LogisticRegression()\n",
        "model.fit(x_train, y_train)\n",
        "ypredict = model.predict(x_test)\n",
        "pd.DataFrame(model.predict(x_train))\n",
        "model.score(x_train,y_train)"
      ],
      "execution_count": 8,
      "outputs": [
        {
          "output_type": "execute_result",
          "data": {
            "text/plain": [
              "0.6694214876033058"
            ]
          },
          "metadata": {
            "tags": []
          },
          "execution_count": 8
        }
      ]
    },
    {
      "cell_type": "code",
      "metadata": {
        "id": "_2tR1qUSpXBz",
        "colab_type": "code",
        "colab": {
          "base_uri": "https://localhost:8080/",
          "height": 34
        },
        "outputId": "fb481f4e-8646-4a13-b962-b1e4ec9810b5"
      },
      "source": [
        "model.score(x_test, y_test)"
      ],
      "execution_count": 9,
      "outputs": [
        {
          "output_type": "execute_result",
          "data": {
            "text/plain": [
              "0.6792452830188679"
            ]
          },
          "metadata": {
            "tags": []
          },
          "execution_count": 9
        }
      ]
    },
    {
      "cell_type": "code",
      "metadata": {
        "id": "cvPiv3VApwcL",
        "colab_type": "code",
        "colab": {}
      },
      "source": [
        "Algo = []\n",
        "train = []\n",
        "test = []\n",
        "recall = []\n",
        "roc = []"
      ],
      "execution_count": 10,
      "outputs": []
    },
    {
      "cell_type": "code",
      "metadata": {
        "id": "2uMgrnlBp_gw",
        "colab_type": "code",
        "colab": {}
      },
      "source": [
        "from sklearn.metrics import recall_score,precision_score,roc_auc_score\n",
        "Algo.append('Logistic Regression')\n",
        "train.append(model.score(x_train,y_train))\n",
        "test.append(model.score(x_test,y_test))\n",
        "recall.append(recall_score(ypredict,y_test,average = 'micro'))\n",
        "roc.append(roc_auc_score(ypredict,y_test))"
      ],
      "execution_count": 11,
      "outputs": []
    },
    {
      "cell_type": "code",
      "metadata": {
        "id": "gXyiHnbkqNZ3",
        "colab_type": "code",
        "colab": {
          "base_uri": "https://localhost:8080/",
          "height": 52
        },
        "outputId": "4a7255ef-8e42-47bf-e18a-a4602f823c12"
      },
      "source": [
        "from sklearn.tree import DecisionTreeClassifier\n",
        "model_decisiontree = DecisionTreeClassifier()\n",
        "model_decisiontree.fit(x_train,y_train)\n",
        "ypredict_decisiontree = model_decisiontree.predict(x_test)\n",
        "print(model_decisiontree.tree_.max_depth)\n",
        "model_decisiontree.score(x_train,y_train) \n",
        "model_decisiontree.score(x_test,y_test)"
      ],
      "execution_count": 12,
      "outputs": [
        {
          "output_type": "stream",
          "text": [
            "10\n"
          ],
          "name": "stdout"
        },
        {
          "output_type": "execute_result",
          "data": {
            "text/plain": [
              "0.5471698113207547"
            ]
          },
          "metadata": {
            "tags": []
          },
          "execution_count": 12
        }
      ]
    },
    {
      "cell_type": "code",
      "metadata": {
        "id": "vmB1IFfBqVdN",
        "colab_type": "code",
        "colab": {}
      },
      "source": [
        "from sklearn.tree import DecisionTreeClassifier\n",
        "model_pruned = DecisionTreeClassifier(criterion='entropy',max_depth=3,random_state=5)\n",
        "model_pruned.fit(x_train,y_train)\n",
        "ypredict = model_pruned.predict(x_test)\n",
        "Algo.append('Decision Tree using Entropy')\n",
        "train.append(model_pruned.score(x_train,y_train))\n",
        "test.append(model_pruned.score(x_test,y_test))\n",
        "recall.append(recall_score(ypredict,y_test))\n",
        "roc.append(roc_auc_score(ypredict,y_test))"
      ],
      "execution_count": 13,
      "outputs": []
    },
    {
      "cell_type": "code",
      "metadata": {
        "colab_type": "code",
        "id": "rTlw55KcikDH",
        "colab": {}
      },
      "source": [
        "model = DecisionTreeClassifier(criterion='gini',max_depth=3,random_state=5)\n",
        "model.fit(x_train,y_train)\n",
        "ypredict = model.predict(x_test)\n",
        "Algo.append('Decision Tree using Gini')\n",
        "train.append(model.score(x_train,y_train))\n",
        "test.append(model.score(x_test,y_test))\n",
        "recall.append(recall_score(ypredict,y_test))\n",
        "roc.append(roc_auc_score(ypredict,y_test))"
      ],
      "execution_count": 14,
      "outputs": []
    },
    {
      "cell_type": "code",
      "metadata": {
        "colab_type": "code",
        "id": "EeVNkkV_3KNk",
        "colab": {}
      },
      "source": [
        "from sklearn.ensemble import RandomForestClassifier\n",
        "model = RandomForestClassifier(n_estimators = 100)\n",
        "model.fit(x_train,y_train)\n",
        "ypredict = model.predict(x_test)\n",
        "Algo.append('Random Forest')\n",
        "train.append(model.score(x_train,y_train))\n",
        "test.append(model.score(x_test,y_test))\n",
        "recall.append(recall_score(ypredict,y_test))\n",
        "roc.append(roc_auc_score(ypredict,y_test))"
      ],
      "execution_count": 15,
      "outputs": []
    },
    {
      "cell_type": "code",
      "metadata": {
        "colab_type": "code",
        "id": "PDa-5f_AjKNM",
        "colab": {}
      },
      "source": [
        "from sklearn.ensemble import BaggingClassifier\n",
        "model = BaggingClassifier(n_estimators=100,max_samples=0.7,bootstrap=True,oob_score=True,random_state=11)\n",
        "model.fit(x_train,y_train)\n",
        "ypredict = model.predict(x_test)\n",
        "Algo.append('Bagging model')\n",
        "train.append(model.score(x_train,y_train))\n",
        "test.append(model.score(x_test,y_test))\n",
        "recall.append(recall_score(ypredict,y_test))\n",
        "roc.append(roc_auc_score(ypredict,y_test))"
      ],
      "execution_count": 16,
      "outputs": []
    },
    {
      "cell_type": "code",
      "metadata": {
        "colab_type": "code",
        "id": "0vkMwFBPjurL",
        "colab": {}
      },
      "source": [
        "from sklearn.ensemble import AdaBoostClassifier\n",
        "model = AdaBoostClassifier(n_estimators=200,learning_rate=0.1,random_state=11)\n",
        "model.fit(x_train,y_train)\n",
        "ypredict = model.predict(x_test)\n",
        "Algo.append('AdaBoost model')\n",
        "train.append(model.score(x_train,y_train))\n",
        "test.append(model.score(x_test,y_test))\n",
        "recall.append(recall_score(ypredict,y_test))\n",
        "roc.append(roc_auc_score(ypredict,y_test))"
      ],
      "execution_count": 17,
      "outputs": []
    },
    {
      "cell_type": "code",
      "metadata": {
        "colab_type": "code",
        "id": "FwM1BGoHkIVH",
        "colab": {}
      },
      "source": [
        "from sklearn.ensemble import GradientBoostingClassifier\n",
        "model = GradientBoostingClassifier(n_estimators=200,random_state=11)\n",
        "model.fit(x_train,y_train)\n",
        "ypredict = model.predict(x_test)\n",
        "Algo.append('Gradient Boosting model')\n",
        "train.append(model.score(x_train,y_train))\n",
        "test.append(model.score(x_test,y_test))\n",
        "recall.append(recall_score(ypredict,y_test))\n",
        "roc.append(roc_auc_score(ypredict,y_test))"
      ],
      "execution_count": 18,
      "outputs": []
    },
    {
      "cell_type": "code",
      "metadata": {
        "colab_type": "code",
        "id": "XLL5Hb8JkcKm",
        "colab": {
          "base_uri": "https://localhost:8080/",
          "height": 287
        },
        "outputId": "1aa2819e-5486-422c-a7f4-77c3b4c03c66"
      },
      "source": [
        "results = pd.DataFrame()\n",
        "results['Model'] = Algo\n",
        "results['Training Accuracy'] = train\n",
        "results['Testing Accuracy'] = test\n",
        "results['Recall'] = recall\n",
        "results['ROC AUC Score'] = roc\n",
        "results = results.set_index('Model')\n",
        "results"
      ],
      "execution_count": 19,
      "outputs": [
        {
          "output_type": "execute_result",
          "data": {
            "text/html": [
              "<div>\n",
              "<style scoped>\n",
              "    .dataframe tbody tr th:only-of-type {\n",
              "        vertical-align: middle;\n",
              "    }\n",
              "\n",
              "    .dataframe tbody tr th {\n",
              "        vertical-align: top;\n",
              "    }\n",
              "\n",
              "    .dataframe thead th {\n",
              "        text-align: right;\n",
              "    }\n",
              "</style>\n",
              "<table border=\"1\" class=\"dataframe\">\n",
              "  <thead>\n",
              "    <tr style=\"text-align: right;\">\n",
              "      <th></th>\n",
              "      <th>Training Accuracy</th>\n",
              "      <th>Testing Accuracy</th>\n",
              "      <th>Recall</th>\n",
              "      <th>ROC AUC Score</th>\n",
              "    </tr>\n",
              "    <tr>\n",
              "      <th>Model</th>\n",
              "      <th></th>\n",
              "      <th></th>\n",
              "      <th></th>\n",
              "      <th></th>\n",
              "    </tr>\n",
              "  </thead>\n",
              "  <tbody>\n",
              "    <tr>\n",
              "      <th>Logistic Regression</th>\n",
              "      <td>0.669421</td>\n",
              "      <td>0.679245</td>\n",
              "      <td>0.679245</td>\n",
              "      <td>0.554167</td>\n",
              "    </tr>\n",
              "    <tr>\n",
              "      <th>Decision Tree using Entropy</th>\n",
              "      <td>0.710744</td>\n",
              "      <td>0.641509</td>\n",
              "      <td>0.711111</td>\n",
              "      <td>0.480556</td>\n",
              "    </tr>\n",
              "    <tr>\n",
              "      <th>Decision Tree using Gini</th>\n",
              "      <td>0.719008</td>\n",
              "      <td>0.641509</td>\n",
              "      <td>0.711111</td>\n",
              "      <td>0.480556</td>\n",
              "    </tr>\n",
              "    <tr>\n",
              "      <th>Random Forest</th>\n",
              "      <td>1.000000</td>\n",
              "      <td>0.528302</td>\n",
              "      <td>0.724138</td>\n",
              "      <td>0.507902</td>\n",
              "    </tr>\n",
              "    <tr>\n",
              "      <th>Bagging model</th>\n",
              "      <td>0.983471</td>\n",
              "      <td>0.547170</td>\n",
              "      <td>0.733333</td>\n",
              "      <td>0.518841</td>\n",
              "    </tr>\n",
              "    <tr>\n",
              "      <th>AdaBoost model</th>\n",
              "      <td>0.859504</td>\n",
              "      <td>0.679245</td>\n",
              "      <td>0.756098</td>\n",
              "      <td>0.586382</td>\n",
              "    </tr>\n",
              "    <tr>\n",
              "      <th>Gradient Boosting model</th>\n",
              "      <td>1.000000</td>\n",
              "      <td>0.641509</td>\n",
              "      <td>0.806452</td>\n",
              "      <td>0.607771</td>\n",
              "    </tr>\n",
              "  </tbody>\n",
              "</table>\n",
              "</div>"
            ],
            "text/plain": [
              "                             Training Accuracy  ...  ROC AUC Score\n",
              "Model                                           ...               \n",
              "Logistic Regression                   0.669421  ...       0.554167\n",
              "Decision Tree using Entropy           0.710744  ...       0.480556\n",
              "Decision Tree using Gini              0.719008  ...       0.480556\n",
              "Random Forest                         1.000000  ...       0.507902\n",
              "Bagging model                         0.983471  ...       0.518841\n",
              "AdaBoost model                        0.859504  ...       0.586382\n",
              "Gradient Boosting model               1.000000  ...       0.607771\n",
              "\n",
              "[7 rows x 4 columns]"
            ]
          },
          "metadata": {
            "tags": []
          },
          "execution_count": 19
        }
      ]
    },
    {
      "cell_type": "markdown",
      "metadata": {
        "id": "b5RCjhaIdS24",
        "colab_type": "text"
      },
      "source": [
        ""
      ]
    },
    {
      "cell_type": "markdown",
      "metadata": {
        "id": "amzEeXZPdS7h",
        "colab_type": "text"
      },
      "source": [
        "Here we Find with Adaboost we find the Maximum Accuracy of 67.9%"
      ]
    },
    {
      "cell_type": "code",
      "metadata": {
        "id": "bcwfqUhbu0zN",
        "colab_type": "code",
        "colab": {}
      },
      "source": [
        "from pandas import DataFrame\n",
        "y = DataFrame (y,columns=['Prediction'])"
      ],
      "execution_count": 20,
      "outputs": []
    },
    {
      "cell_type": "code",
      "metadata": {
        "id": "w26I5fcIs7pu",
        "colab_type": "code",
        "colab": {}
      },
      "source": [
        "from keras.layers import LSTM,Dense,Dropout\n",
        "from sklearn.model_selection import TimeSeriesSplit\n",
        "from sklearn.metrics import mean_squared_error, r2_score\n",
        "ts_split= TimeSeriesSplit(n_splits=5)\n",
        "for train_index, test_index in ts_split.split(x):\n",
        "  X_train, X_test = x[:len(train_index)], x[len(train_index): (len(train_index)+len(test_index))]\n",
        "  y_train, y_test = y[:len(train_index)].values.ravel(), y[len(train_index): (len(train_index)+len(test_index))].values.ravel()"
      ],
      "execution_count": 21,
      "outputs": []
    },
    {
      "cell_type": "code",
      "metadata": {
        "id": "9MnTl2Axs8Cv",
        "colab_type": "code",
        "colab": {}
      },
      "source": [
        "X_train =np.array(X_train)\n",
        "X_test =np.array(X_test)\n",
        "\n",
        "X_tr_t = X_train.reshape(X_train.shape[0], 1, X_train.shape[1])\n",
        "X_tst_t = X_test.reshape(X_test.shape[0], 1, X_test.shape[1])"
      ],
      "execution_count": 22,
      "outputs": []
    },
    {
      "cell_type": "code",
      "metadata": {
        "id": "C-SAPvPavhgX",
        "colab_type": "code",
        "colab": {}
      },
      "source": [
        "X_train = np.asarray(X_train).astype(np.float32)\n",
        "y_train = np.asarray(y_train).astype(np.float32)\n",
        "y_test = np.asarray(y_test).astype(np.float32)\n",
        "X_tr_t = np.asarray(X_tr_t).astype(np.float32)\n",
        "X_tst_t = np.asarray(X_tst_t).astype(np.float32)"
      ],
      "execution_count": 23,
      "outputs": []
    },
    {
      "cell_type": "code",
      "metadata": {
        "id": "-9F8U0HSvmGM",
        "colab_type": "code",
        "colab": {
          "base_uri": "https://localhost:8080/",
          "height": 1000
        },
        "outputId": "b221aa22-e1a1-4bcc-b22a-c7160647090e"
      },
      "source": [
        "from sklearn.metrics import mean_squared_error, r2_score\n",
        "from keras.layers import LSTM,Dense,Dropout\n",
        "from keras.models import Sequential\n",
        "from keras.layers import Dense\n",
        "import keras.backend as K\n",
        "from keras.callbacks import EarlyStopping\n",
        "from keras.optimizers import Adam\n",
        "from keras.models import load_model\n",
        "from keras.layers import LSTM\n",
        "K.clear_session()\n",
        "model_lstm = Sequential()\n",
        "model_lstm.add(LSTM(16, input_shape=(1, X_train.shape[1]), activation='relu', return_sequences=False))\n",
        "model_lstm.add(Dense(1))\n",
        "model_lstm.compile(loss='mean_squared_error', optimizer='adam')\n",
        "early_stop = EarlyStopping(monitor='loss', patience=5, verbose=1)\n",
        "history_model_lstm = model_lstm.fit(X_tr_t, y_train, epochs=100, batch_size=8, verbose=1, shuffle=False)"
      ],
      "execution_count": 24,
      "outputs": [
        {
          "output_type": "stream",
          "text": [
            "Epoch 1/100\n",
            "19/19 [==============================] - 0s 2ms/step - loss: 3496360.5000\n",
            "Epoch 2/100\n",
            "19/19 [==============================] - 0s 2ms/step - loss: 780107.6875\n",
            "Epoch 3/100\n",
            "19/19 [==============================] - 0s 2ms/step - loss: 53521.8984\n",
            "Epoch 4/100\n",
            "19/19 [==============================] - 0s 2ms/step - loss: 23085.9336\n",
            "Epoch 5/100\n",
            "19/19 [==============================] - 0s 2ms/step - loss: 9171.1797\n",
            "Epoch 6/100\n",
            "19/19 [==============================] - 0s 2ms/step - loss: 4637.8652\n",
            "Epoch 7/100\n",
            "19/19 [==============================] - 0s 2ms/step - loss: 4117.3511\n",
            "Epoch 8/100\n",
            "19/19 [==============================] - 0s 2ms/step - loss: 5036.3867\n",
            "Epoch 9/100\n",
            "19/19 [==============================] - 0s 2ms/step - loss: 6978.5659\n",
            "Epoch 10/100\n",
            "19/19 [==============================] - 0s 2ms/step - loss: 9838.3291\n",
            "Epoch 11/100\n",
            "19/19 [==============================] - 0s 1ms/step - loss: 13132.8984\n",
            "Epoch 12/100\n",
            "19/19 [==============================] - 0s 2ms/step - loss: 15688.2676\n",
            "Epoch 13/100\n",
            "19/19 [==============================] - 0s 2ms/step - loss: 15959.5205\n",
            "Epoch 14/100\n",
            "19/19 [==============================] - 0s 2ms/step - loss: 13147.1680\n",
            "Epoch 15/100\n",
            "19/19 [==============================] - 0s 2ms/step - loss: 8243.8594\n",
            "Epoch 16/100\n",
            "19/19 [==============================] - 0s 2ms/step - loss: 3591.7080\n",
            "Epoch 17/100\n",
            "19/19 [==============================] - 0s 2ms/step - loss: 929.8734\n",
            "Epoch 18/100\n",
            "19/19 [==============================] - 0s 2ms/step - loss: 103.3932\n",
            "Epoch 19/100\n",
            "19/19 [==============================] - 0s 2ms/step - loss: 4.7169\n",
            "Epoch 20/100\n",
            "19/19 [==============================] - 0s 1ms/step - loss: 2.9436\n",
            "Epoch 21/100\n",
            "19/19 [==============================] - 0s 2ms/step - loss: 0.7116\n",
            "Epoch 22/100\n",
            "19/19 [==============================] - 0s 2ms/step - loss: 0.3982\n",
            "Epoch 23/100\n",
            "19/19 [==============================] - 0s 2ms/step - loss: 0.4712\n",
            "Epoch 24/100\n",
            "19/19 [==============================] - 0s 2ms/step - loss: 0.4785\n",
            "Epoch 25/100\n",
            "19/19 [==============================] - 0s 2ms/step - loss: 0.4605\n",
            "Epoch 26/100\n",
            "19/19 [==============================] - 0s 2ms/step - loss: 0.4663\n",
            "Epoch 27/100\n",
            "19/19 [==============================] - 0s 2ms/step - loss: 0.4691\n",
            "Epoch 28/100\n",
            "19/19 [==============================] - 0s 1ms/step - loss: 0.4722\n",
            "Epoch 29/100\n",
            "19/19 [==============================] - 0s 2ms/step - loss: 0.4775\n",
            "Epoch 30/100\n",
            "19/19 [==============================] - 0s 2ms/step - loss: 0.4831\n",
            "Epoch 31/100\n",
            "19/19 [==============================] - 0s 2ms/step - loss: 0.4899\n",
            "Epoch 32/100\n",
            "19/19 [==============================] - 0s 2ms/step - loss: 0.4974\n",
            "Epoch 33/100\n",
            "19/19 [==============================] - 0s 1ms/step - loss: 0.5060\n",
            "Epoch 34/100\n",
            "19/19 [==============================] - 0s 1ms/step - loss: 0.5154\n",
            "Epoch 35/100\n",
            "19/19 [==============================] - 0s 2ms/step - loss: 0.5260\n",
            "Epoch 36/100\n",
            "19/19 [==============================] - 0s 2ms/step - loss: 0.5375\n",
            "Epoch 37/100\n",
            "19/19 [==============================] - 0s 1ms/step - loss: 0.5504\n",
            "Epoch 38/100\n",
            "19/19 [==============================] - 0s 1ms/step - loss: 0.5645\n",
            "Epoch 39/100\n",
            "19/19 [==============================] - 0s 2ms/step - loss: 0.5802\n",
            "Epoch 40/100\n",
            "19/19 [==============================] - 0s 2ms/step - loss: 0.5975\n",
            "Epoch 41/100\n",
            "19/19 [==============================] - 0s 2ms/step - loss: 0.6167\n",
            "Epoch 42/100\n",
            "19/19 [==============================] - 0s 2ms/step - loss: 0.6382\n",
            "Epoch 43/100\n",
            "19/19 [==============================] - 0s 1ms/step - loss: 0.6621\n",
            "Epoch 44/100\n",
            "19/19 [==============================] - 0s 1ms/step - loss: 0.6888\n",
            "Epoch 45/100\n",
            "19/19 [==============================] - 0s 1ms/step - loss: 0.7189\n",
            "Epoch 46/100\n",
            "19/19 [==============================] - 0s 1ms/step - loss: 0.7529\n",
            "Epoch 47/100\n",
            "19/19 [==============================] - 0s 2ms/step - loss: 0.7913\n",
            "Epoch 48/100\n",
            "19/19 [==============================] - 0s 2ms/step - loss: 0.8351\n",
            "Epoch 49/100\n",
            "19/19 [==============================] - 0s 1ms/step - loss: 0.8851\n",
            "Epoch 50/100\n",
            "19/19 [==============================] - 0s 2ms/step - loss: 0.9426\n",
            "Epoch 51/100\n",
            "19/19 [==============================] - 0s 2ms/step - loss: 1.0090\n",
            "Epoch 52/100\n",
            "19/19 [==============================] - 0s 2ms/step - loss: 1.0860\n",
            "Epoch 53/100\n",
            "19/19 [==============================] - 0s 2ms/step - loss: 1.1760\n",
            "Epoch 54/100\n",
            "19/19 [==============================] - 0s 2ms/step - loss: 1.2814\n",
            "Epoch 55/100\n",
            "19/19 [==============================] - 0s 2ms/step - loss: 1.4058\n",
            "Epoch 56/100\n",
            "19/19 [==============================] - 0s 2ms/step - loss: 1.5530\n",
            "Epoch 57/100\n",
            "19/19 [==============================] - 0s 3ms/step - loss: 1.7279\n",
            "Epoch 58/100\n",
            "19/19 [==============================] - 0s 2ms/step - loss: 1.9365\n",
            "Epoch 59/100\n",
            "19/19 [==============================] - 0s 2ms/step - loss: 2.1855\n",
            "Epoch 60/100\n",
            "19/19 [==============================] - 0s 2ms/step - loss: 2.4827\n",
            "Epoch 61/100\n",
            "19/19 [==============================] - 0s 2ms/step - loss: 2.8363\n",
            "Epoch 62/100\n",
            "19/19 [==============================] - 0s 2ms/step - loss: 3.2547\n",
            "Epoch 63/100\n",
            "19/19 [==============================] - 0s 1ms/step - loss: 3.7444\n",
            "Epoch 64/100\n",
            "19/19 [==============================] - 0s 2ms/step - loss: 4.3087\n",
            "Epoch 65/100\n",
            "19/19 [==============================] - 0s 1ms/step - loss: 4.9442\n",
            "Epoch 66/100\n",
            "19/19 [==============================] - 0s 2ms/step - loss: 5.6367\n",
            "Epoch 67/100\n",
            "19/19 [==============================] - 0s 2ms/step - loss: 6.3574\n",
            "Epoch 68/100\n",
            "19/19 [==============================] - 0s 2ms/step - loss: 7.0595\n",
            "Epoch 69/100\n",
            "19/19 [==============================] - 0s 2ms/step - loss: 7.6780\n",
            "Epoch 70/100\n",
            "19/19 [==============================] - 0s 2ms/step - loss: 8.1354\n",
            "Epoch 71/100\n",
            "19/19 [==============================] - 0s 2ms/step - loss: 8.3550\n",
            "Epoch 72/100\n",
            "19/19 [==============================] - 0s 2ms/step - loss: 8.2800\n",
            "Epoch 73/100\n",
            "19/19 [==============================] - 0s 2ms/step - loss: 7.8946\n",
            "Epoch 74/100\n",
            "19/19 [==============================] - 0s 2ms/step - loss: 7.2360\n",
            "Epoch 75/100\n",
            "19/19 [==============================] - 0s 2ms/step - loss: 6.3905\n",
            "Epoch 76/100\n",
            "19/19 [==============================] - 0s 2ms/step - loss: 5.4710\n",
            "Epoch 77/100\n",
            "19/19 [==============================] - 0s 2ms/step - loss: 4.5849\n",
            "Epoch 78/100\n",
            "19/19 [==============================] - 0s 2ms/step - loss: 3.8071\n",
            "Epoch 79/100\n",
            "19/19 [==============================] - 0s 2ms/step - loss: 3.1698\n",
            "Epoch 80/100\n",
            "19/19 [==============================] - 0s 2ms/step - loss: 2.6694\n",
            "Epoch 81/100\n",
            "19/19 [==============================] - 0s 2ms/step - loss: 2.2824\n",
            "Epoch 82/100\n",
            "19/19 [==============================] - 0s 1ms/step - loss: 1.9812\n",
            "Epoch 83/100\n",
            "19/19 [==============================] - 0s 2ms/step - loss: 1.7429\n",
            "Epoch 84/100\n",
            "19/19 [==============================] - 0s 2ms/step - loss: 1.5515\n",
            "Epoch 85/100\n",
            "19/19 [==============================] - 0s 2ms/step - loss: 1.3960\n",
            "Epoch 86/100\n",
            "19/19 [==============================] - 0s 1ms/step - loss: 1.2685\n",
            "Epoch 87/100\n",
            "19/19 [==============================] - 0s 2ms/step - loss: 1.1631\n",
            "Epoch 88/100\n",
            "19/19 [==============================] - 0s 1ms/step - loss: 1.0752\n",
            "Epoch 89/100\n",
            "19/19 [==============================] - 0s 1ms/step - loss: 1.0014\n",
            "Epoch 90/100\n",
            "19/19 [==============================] - 0s 1ms/step - loss: 0.9391\n",
            "Epoch 91/100\n",
            "19/19 [==============================] - 0s 1ms/step - loss: 0.8862\n",
            "Epoch 92/100\n",
            "19/19 [==============================] - 0s 1ms/step - loss: 0.8410\n",
            "Epoch 93/100\n",
            "19/19 [==============================] - 0s 1ms/step - loss: 0.8024\n",
            "Epoch 94/100\n",
            "19/19 [==============================] - 0s 2ms/step - loss: 0.7693\n",
            "Epoch 95/100\n",
            "19/19 [==============================] - 0s 2ms/step - loss: 0.7410\n",
            "Epoch 96/100\n",
            "19/19 [==============================] - 0s 1ms/step - loss: 0.7167\n",
            "Epoch 97/100\n",
            "19/19 [==============================] - 0s 2ms/step - loss: 0.6959\n",
            "Epoch 98/100\n",
            "19/19 [==============================] - 0s 1ms/step - loss: 0.6782\n",
            "Epoch 99/100\n",
            "19/19 [==============================] - 0s 2ms/step - loss: 0.6634\n",
            "Epoch 100/100\n",
            "19/19 [==============================] - 0s 2ms/step - loss: 0.6510\n"
          ],
          "name": "stdout"
        }
      ]
    },
    {
      "cell_type": "code",
      "metadata": {
        "id": "Zsrl0aYwvqpl",
        "colab_type": "code",
        "colab": {
          "base_uri": "https://localhost:8080/",
          "height": 52
        },
        "outputId": "6efe93cb-e2c7-4fb3-c483-121ebd94a57b"
      },
      "source": [
        "y_pred_test_lstm = model_lstm.predict(X_tst_t)\n",
        "y_train_pred_lstm = model_lstm.predict(X_tr_t)\n",
        "print(\"The R2 score on the Train set is:\\t{:0.3f}\".format(r2_score(y_train, y_train_pred_lstm)))\n",
        "r2_train = r2_score(y_train, y_train_pred_lstm)\n",
        "print(\"The R2 score on the Test set is:\\t{:0.3f}\".format(r2_score(y_test, y_pred_test_lstm)))\n",
        "r2_test = r2_score(y_test, y_pred_test_lstm)\n"
      ],
      "execution_count": 25,
      "outputs": [
        {
          "output_type": "stream",
          "text": [
            "The R2 score on the Train set is:\t-5.673\n",
            "The R2 score on the Test set is:\t-3.435\n"
          ],
          "name": "stdout"
        }
      ]
    }
  ]
}