import pandas as pd
from sklearn.model_selection import train_test_split
from sklearn.preprocessing import LabelEncoder
from sklearn.ensemble import RandomForestClassifier
from sklearn.metrics import accuracy_score, classification_report

# Load the data from the Excel file
file_path = 'path_to_your_file.xlsx'
data = pd.read_excel(file_path)

# Assuming your columns are named 'text_data' and 'categorical_data'
text_data = data['text_data']
categorical_data = data['categorical_data']

# Encode text data (example using LabelEncoder, can be replaced with more advanced techniques if needed)
label_encoder_text = LabelEncoder()
text_encoded = label_encoder_text.fit_transform(text_data)

# Encode categorical data
label_encoder_cat = LabelEncoder()
categorical_encoded = label_encoder_cat.fit_transform(categorical_data)

# Combine encoded data into a single DataFrame
X = pd.DataFrame({'text_encoded': text_encoded})
y = categorical_encoded

# Split the data into training and testing sets
X_train, X_test, y_train, y_test = train_test_split(X, y, test_size=0.2, random_state=42)

# Initialize and train the Random Forest classifier
rf_classifier = RandomForestClassifier(n_estimators=100, random_state=42)
rf_classifier.fit(X_train, y_train)

# Make predictions
y_pred = rf_classifier.predict(X_test)

# Evaluate the model
accuracy = accuracy_score(y_test, y_pred)
classification_rep = classification_report(y_test, y_pred)

print(f'Accuracy: {accuracy}')
print(f'Classification Report:\n{classification_rep}')
